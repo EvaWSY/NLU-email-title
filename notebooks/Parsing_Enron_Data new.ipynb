{
  "nbformat": 4,
  "nbformat_minor": 0,
  "metadata": {
    "colab": {
      "name": "Parsing Enron Data.ipynb",
      "version": "0.3.2",
      "provenance": []
    },
    "kernelspec": {
      "display_name": "Python 3",
      "language": "python",
      "name": "python3"
    }
  },
  "cells": [
    {
      "cell_type": "code",
      "metadata": {
        "id": "sW5q1nmEUqU1",
        "colab_type": "code",
        "outputId": "c06a5b0b-2775-42dd-ffa9-b07021142c8c",
        "colab": {
          "base_uri": "https://localhost:8080/",
          "height": 34
        }
      },
      "source": [
        "from google.colab import drive\n",
        "drive.mount('gdrive/')"
      ],
      "execution_count": 0,
      "outputs": [
        {
          "output_type": "stream",
          "text": [
            "Mounted at gdrive/\n"
          ],
          "name": "stdout"
        }
      ]
    },
    {
      "cell_type": "code",
      "metadata": {
        "id": "N4eieJrTVKyb",
        "colab_type": "code",
        "colab": {}
      },
      "source": [
        "#define parsing function\n",
        "import re\n",
        "import pandas as pd\n",
        "\n",
        "def parse_doc(doc, allkeys):\n",
        "\n",
        "    keys = ['Message-ID']+re.findall('\\n([\\w\\-]+):', doc[:doc.find('\\n\\n')])\n",
        "    keys = pd.Series(keys).drop_duplicates().tolist()\n",
        "\n",
        "    values = []\n",
        "    for a, k in enumerate(keys):\n",
        "        k = k+':'\n",
        "        try:\n",
        "            values.append(doc[doc.find(k)+len(k):doc.find(keys[a+1])].strip())\n",
        "        except:\n",
        "            values.append(doc[doc.find(k)+len(k):doc.find('\\n\\n')].strip())\n",
        "    \n",
        "    d = dict(zip(keys+['Body'],values+[doc[doc.find('\\n\\n'):].strip()]))\n",
        "    k_to_remove = set(d.keys()) - set(allkeys)\n",
        "    k_to_add = set(allkeys) - set(d.keys())\n",
        "    \n",
        "    for k in k_to_remove:\n",
        "        d.pop(k)\n",
        "    for k in k_to_add:\n",
        "        d[k] = ''\n",
        "\n",
        "    keys = [k[:-1] for k in keys]\n",
        "    return d\n",
        "\n",
        "def find_allkeys(docs):\n",
        "    allkeys = [re.findall('\\n([\\w\\-]+):', doc[:doc.find('\\n\\n')]) for doc in docs]\n",
        "    allkeys = sum(allkeys,[])\n",
        "    allkeys = set(allkeys)\n",
        "    allkeys.add('Message-ID')\n",
        "    allkeys.add('Body')\n",
        "    return allkeys"
      ],
      "execution_count": 0,
      "outputs": []
    },
    {
      "cell_type": "code",
      "metadata": {
        "id": "ZzHvSAUZS6Xo",
        "colab_type": "code",
        "outputId": "9460a973-5f3e-4177-d3c1-1227fe0f8c36",
        "colab": {
          "base_uri": "https://localhost:8080/",
          "height": 52
        }
      },
      "source": [
        "%load_ext autoreload\n",
        "%autoreload 2\n",
        "import sys\n",
        "sys.path.append('../')"
      ],
      "execution_count": 0,
      "outputs": [
        {
          "output_type": "stream",
          "text": [
            "The autoreload extension is already loaded. To reload it, use:\n",
            "  %reload_ext autoreload\n"
          ],
          "name": "stdout"
        }
      ]
    },
    {
      "cell_type": "markdown",
      "metadata": {
        "id": "QZTOWxclS6Xw",
        "colab_type": "text"
      },
      "source": [
        "download email.csv from here: https://www.kaggle.com/wcukierski/enron-email-dataset\n",
        "\n",
        "make sure to put it in the same directory as where NLU-email-title folder is at."
      ]
    },
    {
      "cell_type": "code",
      "metadata": {
        "id": "5Dzk6sA9S6Xw",
        "colab_type": "code",
        "colab": {}
      },
      "source": [
        "#read the corpus\n",
        "df = pd.read_csv('gdrive/My Drive/NLU project/raw_data/emails.csv')"
      ],
      "execution_count": 0,
      "outputs": []
    },
    {
      "cell_type": "code",
      "metadata": {
        "id": "stK1bfTPS6X0",
        "colab_type": "code",
        "outputId": "9a2379e8-e3d6-418a-e81f-e8bb0d05503f",
        "colab": {
          "base_uri": "https://localhost:8080/",
          "height": 198
        }
      },
      "source": [
        "df.head()"
      ],
      "execution_count": 0,
      "outputs": [
        {
          "output_type": "execute_result",
          "data": {
            "text/html": [
              "<div>\n",
              "<style scoped>\n",
              "    .dataframe tbody tr th:only-of-type {\n",
              "        vertical-align: middle;\n",
              "    }\n",
              "\n",
              "    .dataframe tbody tr th {\n",
              "        vertical-align: top;\n",
              "    }\n",
              "\n",
              "    .dataframe thead th {\n",
              "        text-align: right;\n",
              "    }\n",
              "</style>\n",
              "<table border=\"1\" class=\"dataframe\">\n",
              "  <thead>\n",
              "    <tr style=\"text-align: right;\">\n",
              "      <th></th>\n",
              "      <th>file</th>\n",
              "      <th>message</th>\n",
              "    </tr>\n",
              "  </thead>\n",
              "  <tbody>\n",
              "    <tr>\n",
              "      <th>0</th>\n",
              "      <td>allen-p/_sent_mail/1.</td>\n",
              "      <td>Message-ID: &lt;18782981.1075855378110.JavaMail.e...</td>\n",
              "    </tr>\n",
              "    <tr>\n",
              "      <th>1</th>\n",
              "      <td>allen-p/_sent_mail/10.</td>\n",
              "      <td>Message-ID: &lt;15464986.1075855378456.JavaMail.e...</td>\n",
              "    </tr>\n",
              "    <tr>\n",
              "      <th>2</th>\n",
              "      <td>allen-p/_sent_mail/100.</td>\n",
              "      <td>Message-ID: &lt;24216240.1075855687451.JavaMail.e...</td>\n",
              "    </tr>\n",
              "    <tr>\n",
              "      <th>3</th>\n",
              "      <td>allen-p/_sent_mail/1000.</td>\n",
              "      <td>Message-ID: &lt;13505866.1075863688222.JavaMail.e...</td>\n",
              "    </tr>\n",
              "    <tr>\n",
              "      <th>4</th>\n",
              "      <td>allen-p/_sent_mail/1001.</td>\n",
              "      <td>Message-ID: &lt;30922949.1075863688243.JavaMail.e...</td>\n",
              "    </tr>\n",
              "  </tbody>\n",
              "</table>\n",
              "</div>"
            ],
            "text/plain": [
              "                       file                                            message\n",
              "0     allen-p/_sent_mail/1.  Message-ID: <18782981.1075855378110.JavaMail.e...\n",
              "1    allen-p/_sent_mail/10.  Message-ID: <15464986.1075855378456.JavaMail.e...\n",
              "2   allen-p/_sent_mail/100.  Message-ID: <24216240.1075855687451.JavaMail.e...\n",
              "3  allen-p/_sent_mail/1000.  Message-ID: <13505866.1075863688222.JavaMail.e...\n",
              "4  allen-p/_sent_mail/1001.  Message-ID: <30922949.1075863688243.JavaMail.e..."
            ]
          },
          "metadata": {
            "tags": []
          },
          "execution_count": 48
        }
      ]
    },
    {
      "cell_type": "code",
      "metadata": {
        "id": "ijL73iexS6X6",
        "colab_type": "code",
        "colab": {}
      },
      "source": [
        "'''sampling 1000 entries for now to cut down runtime'''\n",
        "docs = df.message.sample(1000)"
      ],
      "execution_count": 0,
      "outputs": []
    },
    {
      "cell_type": "code",
      "metadata": {
        "id": "3JDyQ18tS6X9",
        "colab_type": "code",
        "outputId": "77c629d5-e437-4eea-e38d-eddbe9d0d827",
        "colab": {
          "base_uri": "https://localhost:8080/",
          "height": 328
        }
      },
      "source": [
        "#test\n",
        "allkeys = find_allkeys(docs)\n",
        "allkeys"
      ],
      "execution_count": 0,
      "outputs": [
        {
          "output_type": "execute_result",
          "data": {
            "text/plain": [
              "{'Bcc',\n",
              " 'Body',\n",
              " 'Cc',\n",
              " 'Content-Transfer-Encoding',\n",
              " 'Content-Type',\n",
              " 'Date',\n",
              " 'From',\n",
              " 'Message-ID',\n",
              " 'Mime-Version',\n",
              " 'Subject',\n",
              " 'To',\n",
              " 'X-FileName',\n",
              " 'X-Folder',\n",
              " 'X-From',\n",
              " 'X-Origin',\n",
              " 'X-To',\n",
              " 'X-bcc',\n",
              " 'X-cc'}"
            ]
          },
          "metadata": {
            "tags": []
          },
          "execution_count": 38
        }
      ]
    },
    {
      "cell_type": "code",
      "metadata": {
        "id": "xKSpdd1uS6YC",
        "colab_type": "code",
        "outputId": "a5c186bd-5381-4df5-ef2d-aeb229c0b5f7",
        "colab": {
          "base_uri": "https://localhost:8080/",
          "height": 1022
        }
      },
      "source": [
        "for i in docs:\n",
        "    print(i)\n",
        "    print('\\n--------Parsed-------\\n')\n",
        "    print(parse_doc(i,allkeys))\n",
        "    break"
      ],
      "execution_count": 0,
      "outputs": [
        {
          "output_type": "stream",
          "text": [
            "Message-ID: <26460695.1075854410150.JavaMail.evans@thyme>\n",
            "Date: Tue, 13 Jun 2000 06:45:00 -0700 (PDT)\n",
            "From: darron.giron@enron.com\n",
            "To: imelda.frayre@enron.com\n",
            "Subject: Re: New ENA - IM Mid Business Units\n",
            "Mime-Version: 1.0\n",
            "Content-Type: text/plain; charset=us-ascii\n",
            "Content-Transfer-Encoding: 7bit\n",
            "X-From: Darron C Giron\n",
            "X-To: Imelda Frayre\n",
            "X-cc: \n",
            "X-bcc: \n",
            "X-Folder: \\Darron_Giron_Jun2001\\Notes Folders\\Sent\n",
            "X-Origin: Giron-D\n",
            "X-FileName: dgiron.nsf\n",
            "\n",
            "ENA-IM Mid Central South\n",
            "ANR SW\n",
            "PEPL\n",
            "OGT (ONG)\n",
            "Reliant\n",
            "Williams\n",
            "MRT\n",
            "Transok\n",
            "Enogex\n",
            "\n",
            "ENA-IM Mid Central North\n",
            "NNG\n",
            "Northern Border\n",
            "NGPL\n",
            "\n",
            "DG    3-9573\n",
            "\n",
            "\n",
            "\n",
            "Imelda Frayre\n",
            "\n",
            "06/13/2000 01:37 PM\n",
            "To: Darron C Giron/HOU/ECT@ECT\n",
            "cc: George Smith/HOU/ECT@ECT, Kam Keiser/HOU/ECT@ECT \n",
            "Subject: New ENA - IM Mid Business Units\n",
            "\n",
            "Darron, do you know which pipes these two new business units will be \n",
            "trading?  I need to make sure that all necessary pipes are mapped to these \n",
            "business units in order for traders to be able to book deals on them.  Let me \n",
            "know if there are specific ones they will be using or if they just need all \n",
            "pipes that are currently mapped to the ENA - IM Central business unit also \n",
            "mapped to these two new business units.  \n",
            "\n",
            "Imelda Frayre\n",
            "x35423\n",
            "\n",
            "\n",
            "\n",
            "--------Parsed-------\n",
            "\n",
            "{'Message-ID': '<26460695.1075854410150.JavaMail.evans@thyme>', 'Date': 'Tue, 13 Jun 2000 06:45:00 -0700 (PDT)', 'From': 'darron.giron@enron.com', 'To': 'imelda.frayre@enron.com', 'Subject': 'Re: New ENA - IM Mid Business Units', 'Mime-Version': '1.0', 'Content-Type': 'text/plain; charset=us-ascii', 'Content-Transfer-Encoding': '7bit', 'X-From': 'Darron C Giron', 'X-To': 'Imelda Frayre', 'X-cc': '', 'X-bcc': '', 'X-Folder': '\\\\Darron_Giron_Jun2001\\\\Notes Folders\\\\Sent', 'X-Origin': 'Giron-D', 'X-FileName': 'dgiron.nsf', 'Body': 'ENA-IM Mid Central South\\nANR SW\\nPEPL\\nOGT (ONG)\\nReliant\\nWilliams\\nMRT\\nTransok\\nEnogex\\n\\nENA-IM Mid Central North\\nNNG\\nNorthern Border\\nNGPL\\n\\nDG    3-9573\\n\\n\\n\\nImelda Frayre\\n\\n06/13/2000 01:37 PM\\nTo: Darron C Giron/HOU/ECT@ECT\\ncc: George Smith/HOU/ECT@ECT, Kam Keiser/HOU/ECT@ECT \\nSubject: New ENA - IM Mid Business Units\\n\\nDarron, do you know which pipes these two new business units will be \\ntrading?  I need to make sure that all necessary pipes are mapped to these \\nbusiness units in order for traders to be able to book deals on them.  Let me \\nknow if there are specific ones they will be using or if they just need all \\npipes that are currently mapped to the ENA - IM Central business unit also \\nmapped to these two new business units.  \\n\\nImelda Frayre\\nx35423', 'Cc': '', 'Bcc': ''}\n"
          ],
          "name": "stdout"
        }
      ]
    },
    {
      "cell_type": "code",
      "metadata": {
        "id": "RVY7uDUQS6YI",
        "colab_type": "code",
        "colab": {}
      },
      "source": [
        "#parsing data\n",
        "parsed = list()\n",
        "for doc in docs:\n",
        "    d = parse_doc(doc, allkeys)\n",
        "    parsed.append(d)"
      ],
      "execution_count": 0,
      "outputs": []
    },
    {
      "cell_type": "code",
      "metadata": {
        "id": "EbjBkdH0S6YS",
        "colab_type": "code",
        "colab": {}
      },
      "source": [
        "parse = pd.DataFrame(parsed)"
      ],
      "execution_count": 0,
      "outputs": []
    },
    {
      "cell_type": "code",
      "metadata": {
        "id": "cht-jXRgeosQ",
        "colab_type": "code",
        "colab": {}
      },
      "source": [
        "#save data\n",
        "parse.to_csv('gdrive/My Drive/NLU project/raw_data/parse_1000.csv')"
      ],
      "execution_count": 0,
      "outputs": []
    }
  ]
}